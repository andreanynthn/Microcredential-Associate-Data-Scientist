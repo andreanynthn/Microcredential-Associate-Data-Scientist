{
 "cells": [
  {
   "cell_type": "markdown",
   "id": "50aaee82",
   "metadata": {},
   "source": [
    "<div class=\"alert alert-success\" role=\"alert\">\n",
    "    <p style = 'text-align:center; font-size:250%; font-weight: bold'>Data Preparation 2</p><br>\n",
    "    <p style = 'text-align:center; font-size:150%; font-weight: 700'>Author: Andrean Yonathan</p>\n",
    "</div>"
   ]
  },
  {
   "cell_type": "markdown",
   "id": "3386e464",
   "metadata": {},
   "source": [
    "# Latihan (1)\n",
    "\n",
    "### Melakukan import library yang dibutuhkan"
   ]
  },
  {
   "cell_type": "code",
   "execution_count": 1,
   "id": "0eca83bf",
   "metadata": {},
   "outputs": [],
   "source": [
    "# import library pandas\n",
    "import pandas as pd\n",
    "\n",
    "# import library numpy\n",
    "import numpy as np\n",
    "\n",
    "# import library matplotlib\n",
    "import matplotlib.pyplot as plt\n",
    "\n",
    "# import library seaborn\n",
    "import seaborn as sns\n",
    "\n",
    "# me non aktifkan peringatan pada python dengan import warning -> 'ignore'\n",
    "import warnings \n",
    "warnings.filterwarnings('ignore')"
   ]
  },
  {
   "cell_type": "markdown",
   "id": "f7106718",
   "metadata": {},
   "source": [
    "### Load Dataset"
   ]
  },
  {
   "cell_type": "code",
   "execution_count": 2,
   "id": "b0d459fe",
   "metadata": {},
   "outputs": [
    {
     "data": {
      "text/html": [
       "<div>\n",
       "<style scoped>\n",
       "    .dataframe tbody tr th:only-of-type {\n",
       "        vertical-align: middle;\n",
       "    }\n",
       "\n",
       "    .dataframe tbody tr th {\n",
       "        vertical-align: top;\n",
       "    }\n",
       "\n",
       "    .dataframe thead th {\n",
       "        text-align: right;\n",
       "    }\n",
       "</style>\n",
       "<table border=\"1\" class=\"dataframe\">\n",
       "  <thead>\n",
       "    <tr style=\"text-align: right;\">\n",
       "      <th></th>\n",
       "      <th>SepalLengthCm</th>\n",
       "      <th>SepalWidthCm</th>\n",
       "      <th>PetalLengthCm</th>\n",
       "      <th>PetalWidthCm</th>\n",
       "      <th>Species</th>\n",
       "    </tr>\n",
       "  </thead>\n",
       "  <tbody>\n",
       "    <tr>\n",
       "      <th>0</th>\n",
       "      <td>NaN</td>\n",
       "      <td>3.5</td>\n",
       "      <td>1.4</td>\n",
       "      <td>0.2</td>\n",
       "      <td>Iris-setosa</td>\n",
       "    </tr>\n",
       "    <tr>\n",
       "      <th>1</th>\n",
       "      <td>4.9</td>\n",
       "      <td>2000.0</td>\n",
       "      <td>1.4</td>\n",
       "      <td>0.2</td>\n",
       "      <td>Iris-setosa</td>\n",
       "    </tr>\n",
       "    <tr>\n",
       "      <th>2</th>\n",
       "      <td>4.7</td>\n",
       "      <td>3.2</td>\n",
       "      <td>-1.3</td>\n",
       "      <td>0.2</td>\n",
       "      <td>Iris-setosa</td>\n",
       "    </tr>\n",
       "    <tr>\n",
       "      <th>3</th>\n",
       "      <td>4.6</td>\n",
       "      <td>3.1</td>\n",
       "      <td>1.5</td>\n",
       "      <td>0.2</td>\n",
       "      <td>Iris-setosa</td>\n",
       "    </tr>\n",
       "    <tr>\n",
       "      <th>4</th>\n",
       "      <td>5.0</td>\n",
       "      <td>3.6</td>\n",
       "      <td>1.4</td>\n",
       "      <td>0.2</td>\n",
       "      <td>Iris-setosa</td>\n",
       "    </tr>\n",
       "  </tbody>\n",
       "</table>\n",
       "</div>"
      ],
      "text/plain": [
       "   SepalLengthCm  SepalWidthCm  PetalLengthCm  PetalWidthCm      Species\n",
       "0            NaN           3.5            1.4           0.2  Iris-setosa\n",
       "1            4.9        2000.0            1.4           0.2  Iris-setosa\n",
       "2            4.7           3.2           -1.3           0.2  Iris-setosa\n",
       "3            4.6           3.1            1.5           0.2  Iris-setosa\n",
       "4            5.0           3.6            1.4           0.2  Iris-setosa"
      ]
     },
     "execution_count": 2,
     "metadata": {},
     "output_type": "execute_result"
    }
   ],
   "source": [
    "#Panggil file (load file bernama Iris_unclean.csv) dan simpan dalam dataframe Lalu tampilkan 10 baris awal dataset dengan function head()\n",
    "df = pd.read_csv('Iris_unclean.csv')\n",
    "df.head()"
   ]
  },
  {
   "cell_type": "markdown",
   "id": "ebdad26c",
   "metadata": {},
   "source": [
    "# Latihan (2)\n",
    "\n",
    "### Review Dataset"
   ]
  },
  {
   "cell_type": "code",
   "execution_count": 3,
   "id": "6e40f22c",
   "metadata": {},
   "outputs": [
    {
     "data": {
      "text/plain": [
       "(150, 5)"
      ]
     },
     "execution_count": 3,
     "metadata": {},
     "output_type": "execute_result"
    }
   ],
   "source": [
    "# menghasilkan jumlah baris dan jumlah kolom (bentuk data) pada data df dengan fungsi .shape\n",
    "df.shape"
   ]
  },
  {
   "cell_type": "code",
   "execution_count": 4,
   "id": "8380b809",
   "metadata": {},
   "outputs": [
    {
     "data": {
      "text/html": [
       "<div>\n",
       "<style scoped>\n",
       "    .dataframe tbody tr th:only-of-type {\n",
       "        vertical-align: middle;\n",
       "    }\n",
       "\n",
       "    .dataframe tbody tr th {\n",
       "        vertical-align: top;\n",
       "    }\n",
       "\n",
       "    .dataframe thead th {\n",
       "        text-align: right;\n",
       "    }\n",
       "</style>\n",
       "<table border=\"1\" class=\"dataframe\">\n",
       "  <thead>\n",
       "    <tr style=\"text-align: right;\">\n",
       "      <th></th>\n",
       "      <th>SepalLengthCm</th>\n",
       "      <th>SepalWidthCm</th>\n",
       "      <th>PetalLengthCm</th>\n",
       "      <th>PetalWidthCm</th>\n",
       "    </tr>\n",
       "  </thead>\n",
       "  <tbody>\n",
       "    <tr>\n",
       "      <th>count</th>\n",
       "      <td>148.000000</td>\n",
       "      <td>150.000000</td>\n",
       "      <td>150.000000</td>\n",
       "      <td>150.000000</td>\n",
       "    </tr>\n",
       "    <tr>\n",
       "      <th>mean</th>\n",
       "      <td>5.856757</td>\n",
       "      <td>26.348000</td>\n",
       "      <td>3.721333</td>\n",
       "      <td>1.198667</td>\n",
       "    </tr>\n",
       "    <tr>\n",
       "      <th>std</th>\n",
       "      <td>0.824964</td>\n",
       "      <td>203.117929</td>\n",
       "      <td>1.842364</td>\n",
       "      <td>0.763161</td>\n",
       "    </tr>\n",
       "    <tr>\n",
       "      <th>min</th>\n",
       "      <td>4.300000</td>\n",
       "      <td>2.000000</td>\n",
       "      <td>-1.500000</td>\n",
       "      <td>0.100000</td>\n",
       "    </tr>\n",
       "    <tr>\n",
       "      <th>25%</th>\n",
       "      <td>5.100000</td>\n",
       "      <td>2.800000</td>\n",
       "      <td>1.600000</td>\n",
       "      <td>0.300000</td>\n",
       "    </tr>\n",
       "    <tr>\n",
       "      <th>50%</th>\n",
       "      <td>5.800000</td>\n",
       "      <td>3.000000</td>\n",
       "      <td>4.350000</td>\n",
       "      <td>1.300000</td>\n",
       "    </tr>\n",
       "    <tr>\n",
       "      <th>75%</th>\n",
       "      <td>6.400000</td>\n",
       "      <td>3.375000</td>\n",
       "      <td>5.100000</td>\n",
       "      <td>1.800000</td>\n",
       "    </tr>\n",
       "    <tr>\n",
       "      <th>max</th>\n",
       "      <td>7.900000</td>\n",
       "      <td>2000.000000</td>\n",
       "      <td>6.900000</td>\n",
       "      <td>2.500000</td>\n",
       "    </tr>\n",
       "  </tbody>\n",
       "</table>\n",
       "</div>"
      ],
      "text/plain": [
       "       SepalLengthCm  SepalWidthCm  PetalLengthCm  PetalWidthCm\n",
       "count     148.000000    150.000000     150.000000    150.000000\n",
       "mean        5.856757     26.348000       3.721333      1.198667\n",
       "std         0.824964    203.117929       1.842364      0.763161\n",
       "min         4.300000      2.000000      -1.500000      0.100000\n",
       "25%         5.100000      2.800000       1.600000      0.300000\n",
       "50%         5.800000      3.000000       4.350000      1.300000\n",
       "75%         6.400000      3.375000       5.100000      1.800000\n",
       "max         7.900000   2000.000000       6.900000      2.500000"
      ]
     },
     "execution_count": 4,
     "metadata": {},
     "output_type": "execute_result"
    }
   ],
   "source": [
    "# fungsi describe() untuk mengetahui statistika data untuk data numeric seperti count, mean, standard deviation, maximum, mininum, dan quartile.\n",
    "df.describe()"
   ]
  },
  {
   "cell_type": "code",
   "execution_count": 5,
   "id": "dd79aa65",
   "metadata": {
    "scrolled": true
   },
   "outputs": [
    {
     "name": "stdout",
     "output_type": "stream",
     "text": [
      "<class 'pandas.core.frame.DataFrame'>\n",
      "RangeIndex: 150 entries, 0 to 149\n",
      "Data columns (total 5 columns):\n",
      " #   Column         Non-Null Count  Dtype  \n",
      "---  ------         --------------  -----  \n",
      " 0   SepalLengthCm  148 non-null    float64\n",
      " 1   SepalWidthCm   150 non-null    float64\n",
      " 2   PetalLengthCm  150 non-null    float64\n",
      " 3   PetalWidthCm   150 non-null    float64\n",
      " 4   Species        150 non-null    object \n",
      "dtypes: float64(4), object(1)\n",
      "memory usage: 6.0+ KB\n"
     ]
    }
   ],
   "source": [
    "# Informasi lebih detail mengenai struktur DataFrame dapat dilihat menggunakan fungsi info()\n",
    "df.info()"
   ]
  },
  {
   "cell_type": "code",
   "execution_count": 6,
   "id": "c0c458b5",
   "metadata": {
    "scrolled": true
   },
   "outputs": [
    {
     "data": {
      "text/plain": [
       "SepalLengthCm    2\n",
       "SepalWidthCm     0\n",
       "PetalLengthCm    0\n",
       "PetalWidthCm     0\n",
       "Species          0\n",
       "dtype: int64"
      ]
     },
     "execution_count": 6,
     "metadata": {},
     "output_type": "execute_result"
    }
   ],
   "source": [
    "#cek nilai yang hilang / missing values di dalam data\n",
    "df.isnull().sum()"
   ]
  },
  {
   "cell_type": "markdown",
   "id": "962fcaef",
   "metadata": {},
   "source": [
    "Missing values adalah nilai yang tidak terdefinisi di dataset. Bentuknya beragam, bisa berupa blank cell, ataupun simbol-simbol tertentu seperti NaN (Not a Number), NA (Not Available), ?, -, dan sebagainya. Missing values dapat menjadi masalah dalam analisis data serta tentunya dapat mempengaruhi hasil modelling machine learning. Dari hasil diatas dataset tsb mengandung 2 data missing values pada kolom/field 'SepalLengthCm' dan beberapa outliers!"
   ]
  },
  {
   "cell_type": "markdown",
   "id": "bca9c897",
   "metadata": {},
   "source": [
    "## <font color='red'>1. Kolom SepalLengthCm</font>"
   ]
  },
  {
   "cell_type": "markdown",
   "id": "df928115",
   "metadata": {},
   "source": [
    "# Latihan (3)\n",
    "\n",
    "periksa statistik data kolom SepalLengthCm"
   ]
  },
  {
   "cell_type": "code",
   "execution_count": 7,
   "id": "e836db65",
   "metadata": {},
   "outputs": [
    {
     "data": {
      "text/plain": [
       "count    148.000000\n",
       "mean       5.856757\n",
       "std        0.824964\n",
       "min        4.300000\n",
       "25%        5.100000\n",
       "50%        5.800000\n",
       "75%        6.400000\n",
       "max        7.900000\n",
       "Name: SepalLengthCm, dtype: float64"
      ]
     },
     "execution_count": 7,
     "metadata": {},
     "output_type": "execute_result"
    }
   ],
   "source": [
    "df['SepalLengthCm'].describe()"
   ]
  },
  {
   "cell_type": "code",
   "execution_count": 8,
   "id": "0d90ab46",
   "metadata": {},
   "outputs": [
    {
     "name": "stdout",
     "output_type": "stream",
     "text": [
      "Nilai NaN pada kolom SepalLengthCm berjumlah : 2\n"
     ]
    }
   ],
   "source": [
    "print('Nilai NaN pada kolom SepalLengthCm berjumlah :', df.isnull().sum()[0])"
   ]
  },
  {
   "cell_type": "markdown",
   "id": "799f83b1",
   "metadata": {},
   "source": [
    "# Latihan (5)\n",
    "\n",
    "cetak index dari nilai NaN kolom SepalLengthCm dengan function np.where"
   ]
  },
  {
   "cell_type": "code",
   "execution_count": 9,
   "id": "589c5399",
   "metadata": {},
   "outputs": [
    {
     "data": {
      "text/plain": [
       "(array([0, 6], dtype=int64),)"
      ]
     },
     "execution_count": 9,
     "metadata": {},
     "output_type": "execute_result"
    }
   ],
   "source": [
    "index_nan = np.where(df['SepalLengthCm'].isnull())\n",
    "index_nan"
   ]
  },
  {
   "cell_type": "markdown",
   "id": "71aa19b8",
   "metadata": {},
   "source": [
    "# Latihan (6)\n",
    "\n",
    "1. Cetak ukuran/dimensi dari dataframe \n",
    "2. Drop baris jika ada satu saja data yang missing dan ukuran/dimensi dari dataframe setelah di drop"
   ]
  },
  {
   "cell_type": "code",
   "execution_count": 10,
   "id": "9c46d4dd",
   "metadata": {},
   "outputs": [
    {
     "name": "stdout",
     "output_type": "stream",
     "text": [
      "Ukuran awal df: 150 baris, 5 kolom.\n",
      "Ukuran df setelah dibuang baris yang memiliki missing value: 148 baris, 5 kolom.\n"
     ]
    }
   ],
   "source": [
    "# Cetak ukuran awal dataframe\n",
    "print(\"Ukuran awal df: %d baris, %d kolom.\" % df.shape)\n",
    "\n",
    "# Drop baris jika ada satu saja data yang missing dengan function dropna() dan cetak ukurannya \n",
    "df = df.dropna()\n",
    "print(\"Ukuran df setelah dibuang baris yang memiliki missing value: %d baris, %d kolom.\" % df.shape)"
   ]
  },
  {
   "cell_type": "markdown",
   "id": "d9d17501",
   "metadata": {},
   "source": [
    "##  <font color='red'>2. Kolom SepalWidthCm</font>"
   ]
  },
  {
   "cell_type": "markdown",
   "id": "cfc6d6ca",
   "metadata": {},
   "source": [
    "# Latihan (7)\n",
    "\n",
    "periksa statistik data kolom SepalWidthCm"
   ]
  },
  {
   "cell_type": "code",
   "execution_count": 11,
   "id": "8ca06174",
   "metadata": {},
   "outputs": [
    {
     "data": {
      "text/plain": [
       "count     148.000000\n",
       "mean       26.657432\n",
       "std       204.477337\n",
       "min         2.000000\n",
       "25%         2.800000\n",
       "50%         3.000000\n",
       "75%         3.300000\n",
       "max      2000.000000\n",
       "Name: SepalWidthCm, dtype: float64"
      ]
     },
     "execution_count": 11,
     "metadata": {},
     "output_type": "execute_result"
    }
   ],
   "source": [
    "df['SepalWidthCm'].describe()"
   ]
  },
  {
   "cell_type": "markdown",
   "id": "ca0c3bb2",
   "metadata": {},
   "source": [
    "Dari data diatas terlihat pada terdapat kejanggalan pada nilai max yaitu 2000cm, sedangkan Sepal Width/ lebar Kelopak bunga nampaknya tidak masuk akal bila berukuran hingga 2000cm. Sehingga dapat dipastikan ini merupakan outliers"
   ]
  },
  {
   "cell_type": "markdown",
   "id": "e896c6c1",
   "metadata": {},
   "source": [
    "# Latihan (8)\n",
    "\n",
    "mendeteksi outlier dengan menggunakan boxplot pada kolom SepalWidthCm"
   ]
  },
  {
   "cell_type": "code",
   "execution_count": 12,
   "id": "33e82f6b",
   "metadata": {},
   "outputs": [
    {
     "data": {
      "image/png": "[encoded data removed]",
      "text/plain": [
       "<Figure size 720x360 with 1 Axes>"
      ]
     },
     "metadata": {
      "needs_background": "light"
     },
     "output_type": "display_data"
    }
   ],
   "source": [
    "plt.figure(figsize = (10, 5))\n",
    "sns.boxplot(df['SepalWidthCm'])\n",
    "plt.annotate('Outlier', (df['SepalWidthCm'].describe()['max'],0.1), xytext = (df['SepalWidthCm'].describe()['max'],0.3),\n",
    "             arrowprops = dict(facecolor = 'blue'), fontsize = 13 )\n",
    "IQR = df['SepalWidthCm'].describe()['75%'] - df['SepalWidthCm'].describe()['25%']"
   ]
  },
  {
   "cell_type": "markdown",
   "id": "965d86ac",
   "metadata": {},
   "source": [
    "# Latihan (9)\n",
    "\n",
    "membuat fungsi melihat data outlier dengan rumus IQR = Q3-Q1"
   ]
  },
  {
   "cell_type": "code",
   "execution_count": 13,
   "id": "0705e459",
   "metadata": {},
   "outputs": [],
   "source": [
    "def detect_outliers(df, x):\n",
    "    Q1 = df[x].describe()['25%']\n",
    "    Q3 = df[x].describe()['75%']\n",
    "    IQR = Q3-Q1\n",
    "    return df[(df[x] < Q1-1.5*IQR) | (df[x] > Q3+1.5*IQR)]\n"
   ]
  },
  {
   "cell_type": "markdown",
   "id": "05e1a0c8",
   "metadata": {},
   "source": [
    "# Latihan (10)\n",
    "\n",
    "melihat data ouliers dari kolom SepalWidthCm menggunakan fungsi yang telah dibuat"
   ]
  },
  {
   "cell_type": "code",
   "execution_count": 14,
   "id": "1497103d",
   "metadata": {},
   "outputs": [
    {
     "data": {
      "text/html": [
       "<div>\n",
       "<style scoped>\n",
       "    .dataframe tbody tr th:only-of-type {\n",
       "        vertical-align: middle;\n",
       "    }\n",
       "\n",
       "    .dataframe tbody tr th {\n",
       "        vertical-align: top;\n",
       "    }\n",
       "\n",
       "    .dataframe thead th {\n",
       "        text-align: right;\n",
       "    }\n",
       "</style>\n",
       "<table border=\"1\" class=\"dataframe\">\n",
       "  <thead>\n",
       "    <tr style=\"text-align: right;\">\n",
       "      <th></th>\n",
       "      <th>SepalLengthCm</th>\n",
       "      <th>SepalWidthCm</th>\n",
       "      <th>PetalLengthCm</th>\n",
       "      <th>PetalWidthCm</th>\n",
       "      <th>Species</th>\n",
       "    </tr>\n",
       "  </thead>\n",
       "  <tbody>\n",
       "    <tr>\n",
       "      <th>1</th>\n",
       "      <td>4.9</td>\n",
       "      <td>2000.0</td>\n",
       "      <td>1.4</td>\n",
       "      <td>0.2</td>\n",
       "      <td>Iris-setosa</td>\n",
       "    </tr>\n",
       "    <tr>\n",
       "      <th>8</th>\n",
       "      <td>4.4</td>\n",
       "      <td>1500.0</td>\n",
       "      <td>1.4</td>\n",
       "      <td>0.2</td>\n",
       "      <td>Iris-setosa</td>\n",
       "    </tr>\n",
       "    <tr>\n",
       "      <th>15</th>\n",
       "      <td>5.7</td>\n",
       "      <td>4.4</td>\n",
       "      <td>1.5</td>\n",
       "      <td>0.4</td>\n",
       "      <td>Iris-setosa</td>\n",
       "    </tr>\n",
       "    <tr>\n",
       "      <th>32</th>\n",
       "      <td>5.2</td>\n",
       "      <td>4.1</td>\n",
       "      <td>1.5</td>\n",
       "      <td>0.1</td>\n",
       "      <td>Iris-setosa</td>\n",
       "    </tr>\n",
       "    <tr>\n",
       "      <th>33</th>\n",
       "      <td>5.5</td>\n",
       "      <td>4.2</td>\n",
       "      <td>1.4</td>\n",
       "      <td>0.2</td>\n",
       "      <td>Iris-setosa</td>\n",
       "    </tr>\n",
       "    <tr>\n",
       "      <th>60</th>\n",
       "      <td>5.0</td>\n",
       "      <td>2.0</td>\n",
       "      <td>3.5</td>\n",
       "      <td>1.0</td>\n",
       "      <td>Iris-versicolor</td>\n",
       "    </tr>\n",
       "  </tbody>\n",
       "</table>\n",
       "</div>"
      ],
      "text/plain": [
       "    SepalLengthCm  SepalWidthCm  PetalLengthCm  PetalWidthCm          Species\n",
       "1             4.9        2000.0            1.4           0.2      Iris-setosa\n",
       "8             4.4        1500.0            1.4           0.2      Iris-setosa\n",
       "15            5.7           4.4            1.5           0.4      Iris-setosa\n",
       "32            5.2           4.1            1.5           0.1      Iris-setosa\n",
       "33            5.5           4.2            1.4           0.2      Iris-setosa\n",
       "60            5.0           2.0            3.5           1.0  Iris-versicolor"
      ]
     },
     "execution_count": 14,
     "metadata": {},
     "output_type": "execute_result"
    }
   ],
   "source": [
    "detect_outliers(df,'SepalWidthCm')"
   ]
  },
  {
   "cell_type": "markdown",
   "id": "6509bb7c",
   "metadata": {},
   "source": [
    "# Latihan (11)\n",
    "\n",
    "hapus data outlier dari kolom SepalWidthCm"
   ]
  },
  {
   "cell_type": "code",
   "execution_count": 15,
   "id": "0d6bf3b7",
   "metadata": {},
   "outputs": [],
   "source": [
    "df = df.drop((df[df['SepalWidthCm']>4]).index, axis=0)"
   ]
  },
  {
   "cell_type": "code",
   "execution_count": 16,
   "id": "d02dbed8",
   "metadata": {},
   "outputs": [],
   "source": [
    "df = df.drop((df[df['SepalWidthCm']<2.1]).index, axis=0)"
   ]
  },
  {
   "cell_type": "markdown",
   "id": "4a6ba93d",
   "metadata": {},
   "source": [
    "# Latihan (12)\n",
    "\n",
    "cek ulang outliers dengan fungsi yang telah dibuat"
   ]
  },
  {
   "cell_type": "code",
   "execution_count": 17,
   "id": "ee41d154",
   "metadata": {},
   "outputs": [
    {
     "data": {
      "text/html": [
       "<div>\n",
       "<style scoped>\n",
       "    .dataframe tbody tr th:only-of-type {\n",
       "        vertical-align: middle;\n",
       "    }\n",
       "\n",
       "    .dataframe tbody tr th {\n",
       "        vertical-align: top;\n",
       "    }\n",
       "\n",
       "    .dataframe thead th {\n",
       "        text-align: right;\n",
       "    }\n",
       "</style>\n",
       "<table border=\"1\" class=\"dataframe\">\n",
       "  <thead>\n",
       "    <tr style=\"text-align: right;\">\n",
       "      <th></th>\n",
       "      <th>SepalLengthCm</th>\n",
       "      <th>SepalWidthCm</th>\n",
       "      <th>PetalLengthCm</th>\n",
       "      <th>PetalWidthCm</th>\n",
       "      <th>Species</th>\n",
       "    </tr>\n",
       "  </thead>\n",
       "  <tbody>\n",
       "  </tbody>\n",
       "</table>\n",
       "</div>"
      ],
      "text/plain": [
       "Empty DataFrame\n",
       "Columns: [SepalLengthCm, SepalWidthCm, PetalLengthCm, PetalWidthCm, Species]\n",
       "Index: []"
      ]
     },
     "execution_count": 17,
     "metadata": {},
     "output_type": "execute_result"
    }
   ],
   "source": [
    "detect_outliers(df,'SepalWidthCm')"
   ]
  },
  {
   "cell_type": "markdown",
   "id": "53e9a929",
   "metadata": {},
   "source": [
    "# Latihan (13)\n",
    "\n",
    "cek ulang outliers dengan boxplot "
   ]
  },
  {
   "cell_type": "code",
   "execution_count": 18,
   "id": "45dfd43d",
   "metadata": {},
   "outputs": [
    {
     "data": {
      "text/plain": [
       "<AxesSubplot:xlabel='SepalWidthCm'>"
      ]
     },
     "execution_count": 18,
     "metadata": {},
     "output_type": "execute_result"
    },
    {
     "data": {
      "image/png": "[encoded data removed]",
      "text/plain": [
       "<Figure size 720x360 with 1 Axes>"
      ]
     },
     "metadata": {
      "needs_background": "light"
     },
     "output_type": "display_data"
    }
   ],
   "source": [
    "plt.figure(figsize = (10, 5))\n",
    "sns.boxplot(df['SepalWidthCm'])"
   ]
  },
  {
   "cell_type": "markdown",
   "id": "d466ed48",
   "metadata": {},
   "source": [
    "###  <font color='red'>3. Kolom PetalLengthCm</font>"
   ]
  },
  {
   "cell_type": "markdown",
   "id": "e977d40d",
   "metadata": {},
   "source": [
    "# Latihan (14)\n",
    "\n",
    "periksa statistik data kolom PetalLengthCm"
   ]
  },
  {
   "cell_type": "code",
   "execution_count": 19,
   "id": "b4b0b261",
   "metadata": {},
   "outputs": [
    {
     "data": {
      "text/plain": [
       "count    142.000000\n",
       "mean       3.835915\n",
       "std        1.819958\n",
       "min       -1.500000\n",
       "25%        1.600000\n",
       "50%        4.450000\n",
       "75%        5.100000\n",
       "max        6.900000\n",
       "Name: PetalLengthCm, dtype: float64"
      ]
     },
     "execution_count": 19,
     "metadata": {},
     "output_type": "execute_result"
    }
   ],
   "source": [
    "df['PetalLengthCm'].describe()"
   ]
  },
  {
   "cell_type": "markdown",
   "id": "6e3d0e2c",
   "metadata": {},
   "source": [
    "Dari data diatas terlihat pada terdapat kejanggalan pada nilai min yaitu bernilai minus, sedangkan Petal Length/ panjang Kelopak bunga nampaknya tidak masuk akal bila berukuran minus. Sehingga dapat dipastikan ini merupakan outliers"
   ]
  },
  {
   "cell_type": "markdown",
   "id": "1409d926",
   "metadata": {},
   "source": [
    "# Latihan (15)\n",
    "\n",
    "periksa data bernilai minus pada kolom PetalLengthCm"
   ]
  },
  {
   "cell_type": "code",
   "execution_count": 20,
   "id": "00a0f366",
   "metadata": {},
   "outputs": [
    {
     "data": {
      "text/html": [
       "<div>\n",
       "<style scoped>\n",
       "    .dataframe tbody tr th:only-of-type {\n",
       "        vertical-align: middle;\n",
       "    }\n",
       "\n",
       "    .dataframe tbody tr th {\n",
       "        vertical-align: top;\n",
       "    }\n",
       "\n",
       "    .dataframe thead th {\n",
       "        text-align: right;\n",
       "    }\n",
       "</style>\n",
       "<table border=\"1\" class=\"dataframe\">\n",
       "  <thead>\n",
       "    <tr style=\"text-align: right;\">\n",
       "      <th></th>\n",
       "      <th>SepalLengthCm</th>\n",
       "      <th>SepalWidthCm</th>\n",
       "      <th>PetalLengthCm</th>\n",
       "      <th>PetalWidthCm</th>\n",
       "      <th>Species</th>\n",
       "    </tr>\n",
       "  </thead>\n",
       "  <tbody>\n",
       "    <tr>\n",
       "      <th>2</th>\n",
       "      <td>4.7</td>\n",
       "      <td>3.2</td>\n",
       "      <td>-1.3</td>\n",
       "      <td>0.2</td>\n",
       "      <td>Iris-setosa</td>\n",
       "    </tr>\n",
       "    <tr>\n",
       "      <th>7</th>\n",
       "      <td>5.0</td>\n",
       "      <td>3.4</td>\n",
       "      <td>-1.5</td>\n",
       "      <td>0.2</td>\n",
       "      <td>Iris-setosa</td>\n",
       "    </tr>\n",
       "  </tbody>\n",
       "</table>\n",
       "</div>"
      ],
      "text/plain": [
       "   SepalLengthCm  SepalWidthCm  PetalLengthCm  PetalWidthCm      Species\n",
       "2            4.7           3.2           -1.3           0.2  Iris-setosa\n",
       "7            5.0           3.4           -1.5           0.2  Iris-setosa"
      ]
     },
     "execution_count": 20,
     "metadata": {},
     "output_type": "execute_result"
    }
   ],
   "source": [
    "df[df['PetalLengthCm']<1]"
   ]
  },
  {
   "cell_type": "markdown",
   "id": "e9755dca",
   "metadata": {},
   "source": [
    "# Latihan (16)\n",
    "\n",
    "hapus data bernilai minus / outlier kolom PetalLengthCm"
   ]
  },
  {
   "cell_type": "code",
   "execution_count": 21,
   "id": "8689a295",
   "metadata": {},
   "outputs": [],
   "source": [
    "df = df.drop((df[df['PetalLengthCm']<1]).index, axis=0)"
   ]
  },
  {
   "cell_type": "markdown",
   "id": "b33f2517",
   "metadata": {},
   "source": [
    "# Latihan (17)\n",
    "\n",
    "cek ulang outliers dengan fungsi yang telah dibuat"
   ]
  },
  {
   "cell_type": "code",
   "execution_count": 22,
   "id": "12632055",
   "metadata": {},
   "outputs": [
    {
     "data": {
      "text/html": [
       "<div>\n",
       "<style scoped>\n",
       "    .dataframe tbody tr th:only-of-type {\n",
       "        vertical-align: middle;\n",
       "    }\n",
       "\n",
       "    .dataframe tbody tr th {\n",
       "        vertical-align: top;\n",
       "    }\n",
       "\n",
       "    .dataframe thead th {\n",
       "        text-align: right;\n",
       "    }\n",
       "</style>\n",
       "<table border=\"1\" class=\"dataframe\">\n",
       "  <thead>\n",
       "    <tr style=\"text-align: right;\">\n",
       "      <th></th>\n",
       "      <th>SepalLengthCm</th>\n",
       "      <th>SepalWidthCm</th>\n",
       "      <th>PetalLengthCm</th>\n",
       "      <th>PetalWidthCm</th>\n",
       "      <th>Species</th>\n",
       "    </tr>\n",
       "  </thead>\n",
       "  <tbody>\n",
       "  </tbody>\n",
       "</table>\n",
       "</div>"
      ],
      "text/plain": [
       "Empty DataFrame\n",
       "Columns: [SepalLengthCm, SepalWidthCm, PetalLengthCm, PetalWidthCm, Species]\n",
       "Index: []"
      ]
     },
     "execution_count": 22,
     "metadata": {},
     "output_type": "execute_result"
    }
   ],
   "source": [
    "df[df['PetalLengthCm']<1]"
   ]
  },
  {
   "cell_type": "markdown",
   "id": "41678917",
   "metadata": {},
   "source": [
    "## CEK DATA SETELAH PROSES CLEANSING"
   ]
  },
  {
   "cell_type": "markdown",
   "id": "d49dbe5f",
   "metadata": {},
   "source": [
    "# Latihan (18)\n",
    "\n",
    "Melihat nomor index beserta tipe datanya dengan function info()"
   ]
  },
  {
   "cell_type": "code",
   "execution_count": 23,
   "id": "ec091aa9",
   "metadata": {},
   "outputs": [
    {
     "name": "stdout",
     "output_type": "stream",
     "text": [
      "<class 'pandas.core.frame.DataFrame'>\n",
      "Int64Index: 140 entries, 3 to 149\n",
      "Data columns (total 5 columns):\n",
      " #   Column         Non-Null Count  Dtype  \n",
      "---  ------         --------------  -----  \n",
      " 0   SepalLengthCm  140 non-null    float64\n",
      " 1   SepalWidthCm   140 non-null    float64\n",
      " 2   PetalLengthCm  140 non-null    float64\n",
      " 3   PetalWidthCm   140 non-null    float64\n",
      " 4   Species        140 non-null    object \n",
      "dtypes: float64(4), object(1)\n",
      "memory usage: 6.6+ KB\n"
     ]
    }
   ],
   "source": [
    "df.info()"
   ]
  },
  {
   "cell_type": "markdown",
   "id": "2dd10ba8",
   "metadata": {},
   "source": [
    "# Latihan (19)\n",
    "\n",
    "cek ulang nilai yang hilang / missing values di dalam data setelah proses cleansing"
   ]
  },
  {
   "cell_type": "code",
   "execution_count": 24,
   "id": "d1122f07",
   "metadata": {},
   "outputs": [
    {
     "data": {
      "text/plain": [
       "SepalLengthCm    0\n",
       "SepalWidthCm     0\n",
       "PetalLengthCm    0\n",
       "PetalWidthCm     0\n",
       "Species          0\n",
       "dtype: int64"
      ]
     },
     "execution_count": 24,
     "metadata": {},
     "output_type": "execute_result"
    }
   ],
   "source": [
    "df.isnull().sum()"
   ]
  },
  {
   "cell_type": "markdown",
   "id": "81ae9af6",
   "metadata": {},
   "source": [
    "# Latihan (20)\n",
    "\n",
    "Tampilkan 10 baris dataframe setelah proses cleansing"
   ]
  },
  {
   "cell_type": "code",
   "execution_count": 25,
   "id": "b744ec69",
   "metadata": {},
   "outputs": [
    {
     "data": {
      "text/html": [
       "<div>\n",
       "<style scoped>\n",
       "    .dataframe tbody tr th:only-of-type {\n",
       "        vertical-align: middle;\n",
       "    }\n",
       "\n",
       "    .dataframe tbody tr th {\n",
       "        vertical-align: top;\n",
       "    }\n",
       "\n",
       "    .dataframe thead th {\n",
       "        text-align: right;\n",
       "    }\n",
       "</style>\n",
       "<table border=\"1\" class=\"dataframe\">\n",
       "  <thead>\n",
       "    <tr style=\"text-align: right;\">\n",
       "      <th></th>\n",
       "      <th>SepalLengthCm</th>\n",
       "      <th>SepalWidthCm</th>\n",
       "      <th>PetalLengthCm</th>\n",
       "      <th>PetalWidthCm</th>\n",
       "      <th>Species</th>\n",
       "    </tr>\n",
       "  </thead>\n",
       "  <tbody>\n",
       "    <tr>\n",
       "      <th>3</th>\n",
       "      <td>4.6</td>\n",
       "      <td>3.1</td>\n",
       "      <td>1.5</td>\n",
       "      <td>0.2</td>\n",
       "      <td>Iris-setosa</td>\n",
       "    </tr>\n",
       "    <tr>\n",
       "      <th>4</th>\n",
       "      <td>5.0</td>\n",
       "      <td>3.6</td>\n",
       "      <td>1.4</td>\n",
       "      <td>0.2</td>\n",
       "      <td>Iris-setosa</td>\n",
       "    </tr>\n",
       "    <tr>\n",
       "      <th>5</th>\n",
       "      <td>5.4</td>\n",
       "      <td>3.9</td>\n",
       "      <td>1.7</td>\n",
       "      <td>0.4</td>\n",
       "      <td>Iris-setosa</td>\n",
       "    </tr>\n",
       "    <tr>\n",
       "      <th>9</th>\n",
       "      <td>4.9</td>\n",
       "      <td>3.1</td>\n",
       "      <td>1.5</td>\n",
       "      <td>0.1</td>\n",
       "      <td>Iris-setosa</td>\n",
       "    </tr>\n",
       "    <tr>\n",
       "      <th>10</th>\n",
       "      <td>5.4</td>\n",
       "      <td>3.7</td>\n",
       "      <td>1.5</td>\n",
       "      <td>0.2</td>\n",
       "      <td>Iris-setosa</td>\n",
       "    </tr>\n",
       "    <tr>\n",
       "      <th>11</th>\n",
       "      <td>4.8</td>\n",
       "      <td>3.4</td>\n",
       "      <td>1.6</td>\n",
       "      <td>0.2</td>\n",
       "      <td>Iris-setosa</td>\n",
       "    </tr>\n",
       "    <tr>\n",
       "      <th>12</th>\n",
       "      <td>4.8</td>\n",
       "      <td>3.0</td>\n",
       "      <td>1.4</td>\n",
       "      <td>0.1</td>\n",
       "      <td>Iris-setosa</td>\n",
       "    </tr>\n",
       "    <tr>\n",
       "      <th>13</th>\n",
       "      <td>4.3</td>\n",
       "      <td>3.0</td>\n",
       "      <td>1.1</td>\n",
       "      <td>0.1</td>\n",
       "      <td>Iris-setosa</td>\n",
       "    </tr>\n",
       "    <tr>\n",
       "      <th>14</th>\n",
       "      <td>5.8</td>\n",
       "      <td>4.0</td>\n",
       "      <td>1.2</td>\n",
       "      <td>0.2</td>\n",
       "      <td>Iris-setosa</td>\n",
       "    </tr>\n",
       "    <tr>\n",
       "      <th>16</th>\n",
       "      <td>5.4</td>\n",
       "      <td>3.9</td>\n",
       "      <td>1.3</td>\n",
       "      <td>0.4</td>\n",
       "      <td>Iris-setosa</td>\n",
       "    </tr>\n",
       "  </tbody>\n",
       "</table>\n",
       "</div>"
      ],
      "text/plain": [
       "    SepalLengthCm  SepalWidthCm  PetalLengthCm  PetalWidthCm      Species\n",
       "3             4.6           3.1            1.5           0.2  Iris-setosa\n",
       "4             5.0           3.6            1.4           0.2  Iris-setosa\n",
       "5             5.4           3.9            1.7           0.4  Iris-setosa\n",
       "9             4.9           3.1            1.5           0.1  Iris-setosa\n",
       "10            5.4           3.7            1.5           0.2  Iris-setosa\n",
       "11            4.8           3.4            1.6           0.2  Iris-setosa\n",
       "12            4.8           3.0            1.4           0.1  Iris-setosa\n",
       "13            4.3           3.0            1.1           0.1  Iris-setosa\n",
       "14            5.8           4.0            1.2           0.2  Iris-setosa\n",
       "16            5.4           3.9            1.3           0.4  Iris-setosa"
      ]
     },
     "execution_count": 25,
     "metadata": {},
     "output_type": "execute_result"
    }
   ],
   "source": [
    "df.head(10)"
   ]
  }
 ],
 "metadata": {
  "kernelspec": {
   "display_name": "Python 3 (ipykernel)",
   "language": "python",
   "name": "python3"
  },
  "language_info": {
   "codemirror_mode": {
    "name": "ipython",
    "version": 3
   },
   "file_extension": ".py",
   "mimetype": "text/x-python",
   "name": "python",
   "nbconvert_exporter": "python",
   "pygments_lexer": "ipython3",
   "version": "3.10.3"
  }
 },
 "nbformat": 4,
 "nbformat_minor": 5
}
